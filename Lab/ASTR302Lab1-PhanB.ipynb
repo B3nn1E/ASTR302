{
 "cells": [
  {
   "cell_type": "markdown",
   "metadata": {
    "tags": []
   },
   "source": [
    "# ASTR302 Lab 1: Introduction to Jupyter and Statistical Distributions"
   ]
  },
  {
   "cell_type": "markdown",
   "metadata": {},
   "source": [
    "In this Lab you will be introduced to Jupyter notebooks and basic python.  You will use those skills to begin exploring the statistical distributions we discussed in lecture. Although you should work through the entire notebook, blue boxes highlight where there is more work to do."
   ]
  },
  {
   "cell_type": "markdown",
   "metadata": {
    "tags": []
   },
   "source": [
    "## Jupyter Review"
   ]
  },
  {
   "cell_type": "markdown",
   "metadata": {},
   "source": [
    "Each entry in a Jupyter notebook is called a cell. You can run cells in whatever order you select to. They are independent, but variable values are retained. \n",
    "\n",
    "You can run the contents of individual cells by selecting them and pressing **CTRL-Enter** or pressing the play arrow above. You can interrupt the excecution of the cell by pressing the stop (square) button above.\n",
    "\n",
    "You can run the contents of individual cells AND add a new cell underneath by pressing **ALT-Enter**. \n",
    "\n",
    "You can delete a cell by selecting it and pressing **d** twice or selecting the scissors above.\n",
    "\n",
    "You can add a text block like this cell by pressing **Esc-m** (or use the dropdown at the top and change from Code to Markdown.  This is useful for adding in notes that you want to remember.\n",
    "\n",
    "You can find more information on Jupyter notebooks here: \n",
    "https://jupyter-notebook.readthedocs.io/en/stable/\n",
    "***"
   ]
  },
  {
   "cell_type": "markdown",
   "metadata": {},
   "source": [
    "## Python Review"
   ]
  },
  {
   "cell_type": "markdown",
   "metadata": {},
   "source": [
    "The core python programming language provides a small number of built-in functions.  You can see a description of them here: https://docs.python.org/3/library/functions.html . Most of the high-level functions you will want for numerical data analysis are not built-in.  You access these by importing *packages*.  \n",
    "\n",
    "You can import a package like this:"
   ]
  },
  {
   "cell_type": "code",
   "execution_count": 1,
   "metadata": {
    "execution": {
     "iopub.execute_input": "2023-08-25T21:21:18.204343Z",
     "iopub.status.busy": "2023-08-25T21:21:18.203773Z",
     "iopub.status.idle": "2023-08-25T21:21:18.500828Z",
     "shell.execute_reply": "2023-08-25T21:21:18.499778Z",
     "shell.execute_reply.started": "2023-08-25T21:21:18.204284Z"
    }
   },
   "outputs": [],
   "source": [
    "import astropy"
   ]
  },
  {
   "cell_type": "markdown",
   "metadata": {},
   "source": [
    "This gives you access to the *astropy* package, which provides numerous astronomical utilities.  There are sub-packages within *astropy*, such as *constants*, which contains useful astronomical constants.  You import the subpackage like this:"
   ]
  },
  {
   "cell_type": "code",
   "execution_count": 2,
   "metadata": {
    "execution": {
     "iopub.execute_input": "2023-08-25T21:22:36.454218Z",
     "iopub.status.busy": "2023-08-25T21:22:36.453615Z",
     "iopub.status.idle": "2023-08-25T21:22:36.660739Z",
     "shell.execute_reply": "2023-08-25T21:22:36.659571Z",
     "shell.execute_reply.started": "2023-08-25T21:22:36.454165Z"
    }
   },
   "outputs": [
    {
     "name": "stdout",
     "output_type": "stream",
     "text": [
      "  Name   = Speed of light in vacuum\n",
      "  Value  = 299792458.0\n",
      "  Uncertainty  = 0.0\n",
      "  Unit  = m / s\n",
      "  Reference = CODATA 2018\n",
      "299792458.0\n"
     ]
    }
   ],
   "source": [
    "import astropy.constants\n",
    "c = astropy.constants.c  #Retrieve the speed of light, and store in variable 'c'\n",
    "print(c) #Print a variable using the print object\n",
    "print(c.value) #Get just the value"
   ]
  },
  {
   "cell_type": "markdown",
   "metadata": {},
   "source": [
    "You will frequently see someone do imports like this:"
   ]
  },
  {
   "cell_type": "code",
   "execution_count": 3,
   "metadata": {
    "execution": {
     "iopub.execute_input": "2023-08-25T21:22:57.924102Z",
     "iopub.status.busy": "2023-08-25T21:22:57.921950Z",
     "iopub.status.idle": "2023-08-25T21:22:57.940202Z",
     "shell.execute_reply": "2023-08-25T21:22:57.935933Z",
     "shell.execute_reply.started": "2023-08-25T21:22:57.923925Z"
    }
   },
   "outputs": [],
   "source": [
    "from datetime import *"
   ]
  },
  {
   "cell_type": "markdown",
   "metadata": {},
   "source": [
    "This says *from the datetime package, import everything directly into the current environment.* **This is very bad, and you should not do it.**  If two different packages have functions in them that are named the same thing, and if you import both of them like this, then they will overwrite each other and your code will be confusing.  \n",
    "\n",
    "*There are a few exceptions to this rule, but you will likely not encounter them in this class.*\n",
    "\n",
    "***"
   ]
  },
  {
   "cell_type": "markdown",
   "metadata": {},
   "source": [
    "## Mathematics"
   ]
  },
  {
   "cell_type": "markdown",
   "metadata": {},
   "source": [
    "To calculate things we need to import a mathematical package.  *numpy* is the standard."
   ]
  },
  {
   "cell_type": "code",
   "execution_count": 4,
   "metadata": {
    "execution": {
     "iopub.execute_input": "2023-08-25T21:23:35.835890Z",
     "iopub.status.busy": "2023-08-25T21:23:35.835137Z",
     "iopub.status.idle": "2023-08-25T21:23:35.842518Z",
     "shell.execute_reply": "2023-08-25T21:23:35.840360Z",
     "shell.execute_reply.started": "2023-08-25T21:23:35.835838Z"
    }
   },
   "outputs": [],
   "source": [
    "import numpy as np"
   ]
  },
  {
   "cell_type": "markdown",
   "metadata": {},
   "source": [
    "Note that I am both importing the 'numpy' package, and changing its name (in this session) to 'np'.  This is because I am lazy and typing 'np' is faster than typing 'numpy'.\n",
    "\n",
    "You can find the documentation on the numpy package here: [https://numpy.org/devdocs/reference/index.html](https://numpy.org/devdocs/reference/index.html) . I found this by searching for 'numpy manual'.\n",
    "\n",
    "Numpy allows you to create vector and matrix arrays:"
   ]
  },
  {
   "cell_type": "code",
   "execution_count": 5,
   "metadata": {
    "execution": {
     "iopub.execute_input": "2023-08-25T21:23:58.328694Z",
     "iopub.status.busy": "2023-08-25T21:23:58.327906Z",
     "iopub.status.idle": "2023-08-25T21:23:58.354456Z",
     "shell.execute_reply": "2023-08-25T21:23:58.352132Z",
     "shell.execute_reply.started": "2023-08-25T21:23:58.328646Z"
    }
   },
   "outputs": [
    {
     "data": {
      "text/plain": [
       "array([1, 2, 3, 4])"
      ]
     },
     "execution_count": 5,
     "metadata": {},
     "output_type": "execute_result"
    }
   ],
   "source": [
    "v = np.array([1,2,3,4])\n",
    "v"
   ]
  },
  {
   "cell_type": "markdown",
   "metadata": {},
   "source": [
    "Note that I did not use print(v).  Instead I asked python to give me information about the object itself.  It tells me that it is *type* array, and has elements [1, 2, 3, 4]"
   ]
  },
  {
   "cell_type": "code",
   "execution_count": 6,
   "metadata": {
    "execution": {
     "iopub.execute_input": "2023-08-25T21:24:16.717350Z",
     "iopub.status.busy": "2023-08-25T21:24:16.716343Z",
     "iopub.status.idle": "2023-08-25T21:24:16.734357Z",
     "shell.execute_reply": "2023-08-25T21:24:16.729912Z",
     "shell.execute_reply.started": "2023-08-25T21:24:16.717307Z"
    }
   },
   "outputs": [
    {
     "name": "stdout",
     "output_type": "stream",
     "text": [
      "[1 2 3 4]\n"
     ]
    }
   ],
   "source": [
    "print(v)"
   ]
  },
  {
   "cell_type": "markdown",
   "metadata": {},
   "source": [
    "Print just shows the contents (as a python list).\n",
    "\n",
    "Now make a bigger array:"
   ]
  },
  {
   "cell_type": "code",
   "execution_count": 8,
   "metadata": {
    "execution": {
     "iopub.execute_input": "2023-08-25T21:24:38.547455Z",
     "iopub.status.busy": "2023-08-25T21:24:38.545712Z",
     "iopub.status.idle": "2023-08-25T21:24:38.557862Z",
     "shell.execute_reply": "2023-08-25T21:24:38.553318Z",
     "shell.execute_reply.started": "2023-08-25T21:24:38.547312Z"
    }
   },
   "outputs": [],
   "source": [
    "v = np.arange(0,10000,1) #This arange call creates a long array from 0 to 10000 with step size = 1"
   ]
  },
  {
   "cell_type": "code",
   "execution_count": 9,
   "metadata": {
    "execution": {
     "iopub.execute_input": "2023-08-25T21:24:48.485374Z",
     "iopub.status.busy": "2023-08-25T21:24:48.481352Z",
     "iopub.status.idle": "2023-08-25T21:24:48.503127Z",
     "shell.execute_reply": "2023-08-25T21:24:48.502118Z",
     "shell.execute_reply.started": "2023-08-25T21:24:48.485238Z"
    }
   },
   "outputs": [
    {
     "name": "stdout",
     "output_type": "stream",
     "text": [
      "[   0    1    2 ... 9997 9998 9999]\n"
     ]
    }
   ],
   "source": [
    "print(v)"
   ]
  },
  {
   "cell_type": "markdown",
   "metadata": {},
   "source": [
    "Note that python doesn't display the entire array, only the ends --- and also note that python (and packages) have a wide range of utilities. So if you want to do something, it is highly likely a version of that already exists that you can access.\n",
    "\n",
    "***"
   ]
  },
  {
   "cell_type": "markdown",
   "metadata": {},
   "source": [
    "## Uniform Distribution"
   ]
  },
  {
   "cell_type": "markdown",
   "metadata": {},
   "source": [
    "Let's use numpy to generate a uniform set of 100 random numbers from -10 to 10"
   ]
  },
  {
   "cell_type": "code",
   "execution_count": 22,
   "metadata": {
    "execution": {
     "iopub.execute_input": "2023-08-25T21:29:16.364119Z",
     "iopub.status.busy": "2023-08-25T21:29:16.363398Z",
     "iopub.status.idle": "2023-08-25T21:29:16.371174Z",
     "shell.execute_reply": "2023-08-25T21:29:16.369575Z",
     "shell.execute_reply.started": "2023-08-25T21:29:16.364050Z"
    }
   },
   "outputs": [],
   "source": [
    "sample = np.random.uniform(-10,10,10000)"
   ]
  },
  {
   "cell_type": "markdown",
   "metadata": {},
   "source": [
    "Let's examine that sample:"
   ]
  },
  {
   "cell_type": "code",
   "execution_count": 23,
   "metadata": {
    "execution": {
     "iopub.execute_input": "2023-08-25T21:29:18.032782Z",
     "iopub.status.busy": "2023-08-25T21:29:18.032255Z",
     "iopub.status.idle": "2023-08-25T21:29:18.039071Z",
     "shell.execute_reply": "2023-08-25T21:29:18.037778Z",
     "shell.execute_reply.started": "2023-08-25T21:29:18.032738Z"
    }
   },
   "outputs": [
    {
     "name": "stdout",
     "output_type": "stream",
     "text": [
      "[-3.44417679  8.43061917 -8.28596018 ...  3.20556071  8.98078901\n",
      "  6.44602552]\n"
     ]
    }
   ],
   "source": [
    "print(sample)"
   ]
  },
  {
   "cell_type": "markdown",
   "metadata": {},
   "source": [
    "Create a histogram of those random numbers, with one bin per integer value:"
   ]
  },
  {
   "cell_type": "code",
   "execution_count": 24,
   "metadata": {
    "execution": {
     "iopub.execute_input": "2023-08-25T21:29:22.591221Z",
     "iopub.status.busy": "2023-08-25T21:29:22.590507Z",
     "iopub.status.idle": "2023-08-25T21:29:22.598614Z",
     "shell.execute_reply": "2023-08-25T21:29:22.597065Z",
     "shell.execute_reply.started": "2023-08-25T21:29:22.591162Z"
    }
   },
   "outputs": [],
   "source": [
    "bins = np.linspace(-10,10,21)   #lower and upper limit, number of points"
   ]
  },
  {
   "cell_type": "code",
   "execution_count": 25,
   "metadata": {
    "execution": {
     "iopub.execute_input": "2023-08-25T21:29:25.282712Z",
     "iopub.status.busy": "2023-08-25T21:29:25.282041Z",
     "iopub.status.idle": "2023-08-25T21:29:25.291063Z",
     "shell.execute_reply": "2023-08-25T21:29:25.289453Z",
     "shell.execute_reply.started": "2023-08-25T21:29:25.282654Z"
    }
   },
   "outputs": [
    {
     "name": "stdout",
     "output_type": "stream",
     "text": [
      "[-10.  -9.  -8.  -7.  -6.  -5.  -4.  -3.  -2.  -1.   0.   1.   2.   3.\n",
      "   4.   5.   6.   7.   8.   9.  10.]\n"
     ]
    }
   ],
   "source": [
    "print(bins)"
   ]
  },
  {
   "cell_type": "code",
   "execution_count": 26,
   "metadata": {
    "execution": {
     "iopub.execute_input": "2023-08-25T21:29:27.428867Z",
     "iopub.status.busy": "2023-08-25T21:29:27.428178Z",
     "iopub.status.idle": "2023-08-25T21:29:27.436310Z",
     "shell.execute_reply": "2023-08-25T21:29:27.434941Z",
     "shell.execute_reply.started": "2023-08-25T21:29:27.428811Z"
    }
   },
   "outputs": [],
   "source": [
    "histogram, bins = np.histogram(sample, bins=bins)"
   ]
  },
  {
   "cell_type": "code",
   "execution_count": 27,
   "metadata": {
    "execution": {
     "iopub.execute_input": "2023-08-25T21:29:29.735993Z",
     "iopub.status.busy": "2023-08-25T21:29:29.735357Z",
     "iopub.status.idle": "2023-08-25T21:29:29.743725Z",
     "shell.execute_reply": "2023-08-25T21:29:29.742165Z",
     "shell.execute_reply.started": "2023-08-25T21:29:29.735938Z"
    }
   },
   "outputs": [
    {
     "name": "stdout",
     "output_type": "stream",
     "text": [
      "[484 481 485 495 525 493 498 514 508 513 492 509 510 531 490 479 488 481\n",
      " 527 497]\n"
     ]
    }
   ],
   "source": [
    "print(histogram)"
   ]
  },
  {
   "cell_type": "markdown",
   "metadata": {},
   "source": [
    "Why did we use linspace instead of array?  Read the documentation on numpy.linspace (for example here https://realpython.com/np-linspace-numpy/)"
   ]
  },
  {
   "cell_type": "markdown",
   "metadata": {},
   "source": [
    "## Plotting"
   ]
  },
  {
   "cell_type": "markdown",
   "metadata": {},
   "source": [
    "Now we can use the matplotlib package to plot this distribution.  First import it, and configure it to draw within the python notebook"
   ]
  },
  {
   "cell_type": "code",
   "execution_count": 28,
   "metadata": {
    "execution": {
     "iopub.execute_input": "2023-08-25T21:29:33.300480Z",
     "iopub.status.busy": "2023-08-25T21:29:33.299812Z",
     "iopub.status.idle": "2023-08-25T21:29:33.306618Z",
     "shell.execute_reply": "2023-08-25T21:29:33.305048Z",
     "shell.execute_reply.started": "2023-08-25T21:29:33.300422Z"
    }
   },
   "outputs": [],
   "source": [
    "import matplotlib.pyplot as plt\n",
    "#%matplotlib inline"
   ]
  },
  {
   "cell_type": "markdown",
   "metadata": {},
   "source": [
    "We want the plot to show bin centers halfway between the edge of each bin"
   ]
  },
  {
   "cell_type": "code",
   "execution_count": 29,
   "metadata": {
    "execution": {
     "iopub.execute_input": "2023-08-25T21:29:35.283815Z",
     "iopub.status.busy": "2023-08-25T21:29:35.283229Z",
     "iopub.status.idle": "2023-08-25T21:29:35.290687Z",
     "shell.execute_reply": "2023-08-25T21:29:35.288904Z",
     "shell.execute_reply.started": "2023-08-25T21:29:35.283766Z"
    }
   },
   "outputs": [],
   "source": [
    "bin_centers = 0.5*(bins[1:]+bins[:-1])"
   ]
  },
  {
   "cell_type": "code",
   "execution_count": 30,
   "metadata": {
    "execution": {
     "iopub.execute_input": "2023-08-25T21:29:36.699979Z",
     "iopub.status.busy": "2023-08-25T21:29:36.699267Z",
     "iopub.status.idle": "2023-08-25T21:29:36.709373Z",
     "shell.execute_reply": "2023-08-25T21:29:36.707089Z",
     "shell.execute_reply.started": "2023-08-25T21:29:36.699919Z"
    }
   },
   "outputs": [
    {
     "name": "stdout",
     "output_type": "stream",
     "text": [
      "[-9.5 -8.5 -7.5 -6.5 -5.5 -4.5 -3.5 -2.5 -1.5 -0.5  0.5  1.5  2.5  3.5\n",
      "  4.5  5.5  6.5  7.5  8.5  9.5]\n"
     ]
    }
   ],
   "source": [
    "print(bin_centers)"
   ]
  },
  {
   "cell_type": "markdown",
   "metadata": {},
   "source": [
    "Now setup the plot."
   ]
  },
  {
   "cell_type": "code",
   "execution_count": 31,
   "metadata": {
    "execution": {
     "iopub.execute_input": "2023-08-25T21:29:38.281357Z",
     "iopub.status.busy": "2023-08-25T21:29:38.280843Z",
     "iopub.status.idle": "2023-08-25T21:29:38.606776Z",
     "shell.execute_reply": "2023-08-25T21:29:38.605528Z",
     "shell.execute_reply.started": "2023-08-25T21:29:38.281314Z"
    }
   },
   "outputs": [
    {
     "data": {
      "image/png": "[encoded data removed]",
      "text/plain": [
       "<Figure size 720x432 with 1 Axes>"
      ]
     },
     "metadata": {
      "needs_background": "light"
     },
     "output_type": "display_data"
    }
   ],
   "source": [
    "plt.figure(figsize=(10,6))\n",
    "\n",
    "plt.plot(bin_centers, histogram)\n",
    "plt.ylim(0,np.max(histogram*1.2))\n",
    "plt.xlabel('Value')\n",
    "plt.ylabel('Frequency (N)')\n",
    "plt.title('Uniform Distribution')\n",
    "plt.show()"
   ]
  },
  {
   "cell_type": "markdown",
   "metadata": {},
   "source": [
    "That doesn't look very uniform.  Why? What happens if we increase the number of points to 10000?  Change the size of the sample in the original np.random.uniform call and re-run the notebook steps. This is your introduction to the concept of signal-to-noise. The fluctuations in the new plot are larger in value and yet they look smaller relative to the mean value. What is going on here? **This is an important concept to fully understand.**"
   ]
  },
  {
   "cell_type": "markdown",
   "metadata": {},
   "source": [
    "When plotting histograms, it is useful for the plot to not play 'connect-the-dots'.  Rather, we want bar style plots."
   ]
  },
  {
   "cell_type": "code",
   "execution_count": 32,
   "metadata": {
    "execution": {
     "iopub.execute_input": "2023-08-25T21:34:07.826844Z",
     "iopub.status.busy": "2023-08-25T21:34:07.826460Z",
     "iopub.status.idle": "2023-08-25T21:34:08.493806Z",
     "shell.execute_reply": "2023-08-25T21:34:08.490885Z",
     "shell.execute_reply.started": "2023-08-25T21:34:07.826814Z"
    }
   },
   "outputs": [
    {
     "data": {
      "image/png": "[encoded data removed]",
      "text/plain": [
       "<Figure size 720x288 with 1 Axes>"
      ]
     },
     "metadata": {
      "needs_background": "light"
     },
     "output_type": "display_data"
    }
   ],
   "source": [
    "plt.figure(figsize=(10,4))   # sets size of plot, you can play with this\n",
    "plt.bar(bin_centers, histogram)\n",
    "plt.ylim(0,np.max(histogram*1.2))\n",
    "plt.xlabel('Value')\n",
    "plt.ylabel('Frequency (N)')\n",
    "plt.title('Uniform Distribution')\n",
    "plt.show()"
   ]
  },
  {
   "cell_type": "markdown",
   "metadata": {},
   "source": [
    "## Gaussian Distribution"
   ]
  },
  {
   "cell_type": "markdown",
   "metadata": {},
   "source": [
    "Now change from a uniform distribution to a normal (or Gaussian) distribution"
   ]
  },
  {
   "cell_type": "code",
   "execution_count": 33,
   "metadata": {
    "execution": {
     "iopub.execute_input": "2023-08-25T21:34:20.732294Z",
     "iopub.status.busy": "2023-08-25T21:34:20.731447Z",
     "iopub.status.idle": "2023-08-25T21:34:20.746533Z",
     "shell.execute_reply": "2023-08-25T21:34:20.743285Z",
     "shell.execute_reply.started": "2023-08-25T21:34:20.732226Z"
    }
   },
   "outputs": [],
   "source": [
    "sample = np.random.normal(0,2.5,10000)"
   ]
  },
  {
   "cell_type": "markdown",
   "metadata": {},
   "source": [
    "Note that the function parameters for 'normal' are different than for uniform.  Use the numpy documentation to figure out what they are."
   ]
  },
  {
   "cell_type": "code",
   "execution_count": 34,
   "metadata": {
    "execution": {
     "iopub.execute_input": "2023-08-25T21:34:27.115828Z",
     "iopub.status.busy": "2023-08-25T21:34:27.115470Z",
     "iopub.status.idle": "2023-08-25T21:34:27.122680Z",
     "shell.execute_reply": "2023-08-25T21:34:27.121062Z",
     "shell.execute_reply.started": "2023-08-25T21:34:27.115798Z"
    }
   },
   "outputs": [
    {
     "name": "stdout",
     "output_type": "stream",
     "text": [
      "[ 3.97229611 -1.78101192 -1.54982148 ... -2.57519487 -3.25468233\n",
      " -3.65416867]\n"
     ]
    }
   ],
   "source": [
    "print(sample)"
   ]
  },
  {
   "cell_type": "code",
   "execution_count": 35,
   "metadata": {
    "execution": {
     "iopub.execute_input": "2023-08-25T21:34:31.408925Z",
     "iopub.status.busy": "2023-08-25T21:34:31.405248Z",
     "iopub.status.idle": "2023-08-25T21:34:31.418133Z",
     "shell.execute_reply": "2023-08-25T21:34:31.416633Z",
     "shell.execute_reply.started": "2023-08-25T21:34:31.408789Z"
    }
   },
   "outputs": [],
   "source": [
    "histogram, bins = np.histogram(sample, bins=bins)"
   ]
  },
  {
   "cell_type": "code",
   "execution_count": 36,
   "metadata": {
    "execution": {
     "iopub.execute_input": "2023-08-25T21:34:34.435226Z",
     "iopub.status.busy": "2023-08-25T21:34:34.432879Z",
     "iopub.status.idle": "2023-08-25T21:34:35.152577Z",
     "shell.execute_reply": "2023-08-25T21:34:35.150314Z",
     "shell.execute_reply.started": "2023-08-25T21:34:34.435023Z"
    }
   },
   "outputs": [
    {
     "data": {
      "image/png": "[encoded data removed]",
      "text/plain": [
       "<Figure size 720x288 with 1 Axes>"
      ]
     },
     "metadata": {
      "needs_background": "light"
     },
     "output_type": "display_data"
    }
   ],
   "source": [
    "plt.figure(figsize=(10,4))\n",
    "plt.bar(bin_centers, histogram)\n",
    "plt.ylim(0,np.max(histogram*1.2))  # set y axis to give a little more headroom\n",
    "plt.xlabel('Value')\n",
    "plt.ylabel('Frequency (N)')\n",
    "plt.title('Gaussian Distribution')\n",
    "plt.show()"
   ]
  },
  {
   "cell_type": "markdown",
   "metadata": {},
   "source": [
    "<div class=\"alert alert-info\">Experiment with changing the standard deviation and center location of the distribution.  You may need to change the range of the bins.  Copy the above code and insert the required code above the plotting section. Reproduce below. </div>"
   ]
  },
  {
   "cell_type": "code",
   "execution_count": 40,
   "metadata": {
    "execution": {
     "iopub.execute_input": "2023-08-25T21:38:37.544641Z",
     "iopub.status.busy": "2023-08-25T21:38:37.544059Z",
     "iopub.status.idle": "2023-08-25T21:38:37.856770Z",
     "shell.execute_reply": "2023-08-25T21:38:37.855361Z",
     "shell.execute_reply.started": "2023-08-25T21:38:37.544579Z"
    }
   },
   "outputs": [
    {
     "data": {
      "image/png": "[encoded data removed]",
      "text/plain": [
       "<Figure size 720x360 with 1 Axes>"
      ]
     },
     "metadata": {
      "needs_background": "light"
     },
     "output_type": "display_data"
    }
   ],
   "source": [
    "# fill in code\n",
    "sample = np.random.normal(0,50,10000)\n",
    "histogram, bins = np.histogram(sample, bins=bins)\n",
    "plt.figure(figsize=(10,5))\n",
    "plt.bar(bin_centers, histogram)\n",
    "plt.ylim(0,np.max(histogram*1.2))  # set y axis to give a little more headroom\n",
    "plt.xlabel('Value')\n",
    "plt.ylabel('Frequency (N)')\n",
    "plt.title('Gaussian Distribution')\n",
    "plt.show()"
   ]
  },
  {
   "cell_type": "markdown",
   "metadata": {},
   "source": [
    "## Binomial Distribution"
   ]
  },
  {
   "cell_type": "markdown",
   "metadata": {},
   "source": [
    "The binomial distribution governs the outcome of an experiment where there are two possible outcomes.  This is the coin-flip experiment probability\n",
    "\n",
    "$$P(x) = {n \\choose {x}} p^x (1-p)^{n-x},$$\n",
    "\n",
    "where $x$ is the number of positive outcomes out of $n$ trials, and $p$ is the probability of that positive outcome per trial (i.e., 0.5 for a coin toss)."
   ]
  },
  {
   "cell_type": "markdown",
   "metadata": {},
   "source": [
    "numpy will generate a binomial distribution.  For a class of 20 students, each conducting the coin flip experiment 10 times:"
   ]
  },
  {
   "cell_type": "code",
   "execution_count": 70,
   "metadata": {
    "execution": {
     "iopub.execute_input": "2023-08-25T21:44:28.236212Z",
     "iopub.status.busy": "2023-08-25T21:44:28.235624Z",
     "iopub.status.idle": "2023-08-25T21:44:28.246433Z",
     "shell.execute_reply": "2023-08-25T21:44:28.243472Z",
     "shell.execute_reply.started": "2023-08-25T21:44:28.236161Z"
    }
   },
   "outputs": [],
   "source": [
    "students = 200\n",
    "tosses = 100\n",
    "p = 0.5\n",
    "samples = np.random.binomial(tosses,p,students)"
   ]
  },
  {
   "cell_type": "code",
   "execution_count": 49,
   "metadata": {
    "execution": {
     "iopub.execute_input": "2023-08-25T21:41:56.986915Z",
     "iopub.status.busy": "2023-08-25T21:41:56.986290Z",
     "iopub.status.idle": "2023-08-25T21:41:56.996009Z",
     "shell.execute_reply": "2023-08-25T21:41:56.994565Z",
     "shell.execute_reply.started": "2023-08-25T21:41:56.986867Z"
    }
   },
   "outputs": [
    {
     "name": "stdout",
     "output_type": "stream",
     "text": [
      "[508 496 484 507 489 473 513 532 480 505 502 498 488 493 495 504 486 495\n",
      " 514 495 492 500 498 486 494 485 483 490 518 492 491 480 499 491 481 506\n",
      " 491 509 491 485 502 501 501 504 491 493 484 505 492 495 499 511 499 498\n",
      " 513 512 509 493 481 504 503 475 498 493 499 490 508 518 502 507 495 481\n",
      " 515 517 472 513 485 493 520 497 476 502 503 473 512 515 467 486 482 521\n",
      " 521 497 488 526 504 502 472 503 505 497 528 518 482 497 510 495 500 485\n",
      " 476 510 487 474 499 504 503 474 514 502 481 491 487 502 490 509 503 489\n",
      " 515 504 528 492 510 486 493 520 503 490 520 498 501 501 472 499 516 500\n",
      " 467 509 505 499 506 506 490 480 499 503 519 492 484 491 520 506 502 500\n",
      " 482 492 506 516 489 493 500 511 497 495 481 510 488 491 486 504 476 489\n",
      " 502 509 506 528 470 482 505 463 489 484 522 514 489 525 491 478 489 487\n",
      " 483 501]\n"
     ]
    }
   ],
   "source": [
    "print(samples)"
   ]
  },
  {
   "cell_type": "code",
   "execution_count": 71,
   "metadata": {
    "execution": {
     "iopub.execute_input": "2023-08-25T21:44:30.234409Z",
     "iopub.status.busy": "2023-08-25T21:44:30.233484Z",
     "iopub.status.idle": "2023-08-25T21:44:30.238339Z",
     "shell.execute_reply": "2023-08-25T21:44:30.237563Z",
     "shell.execute_reply.started": "2023-08-25T21:44:30.234361Z"
    }
   },
   "outputs": [],
   "source": [
    "bins = np.linspace(0,tosses,tosses+1)"
   ]
  },
  {
   "cell_type": "code",
   "execution_count": 61,
   "metadata": {
    "execution": {
     "iopub.execute_input": "2023-08-25T21:43:03.093433Z",
     "iopub.status.busy": "2023-08-25T21:43:03.092816Z",
     "iopub.status.idle": "2023-08-25T21:43:03.102280Z",
     "shell.execute_reply": "2023-08-25T21:43:03.100882Z",
     "shell.execute_reply.started": "2023-08-25T21:43:03.093377Z"
    }
   },
   "outputs": [
    {
     "name": "stdout",
     "output_type": "stream",
     "text": [
      "[  0.   1.   2.   3.   4.   5.   6.   7.   8.   9.  10.  11.  12.  13.\n",
      "  14.  15.  16.  17.  18.  19.  20.  21.  22.  23.  24.  25.  26.  27.\n",
      "  28.  29.  30.  31.  32.  33.  34.  35.  36.  37.  38.  39.  40.  41.\n",
      "  42.  43.  44.  45.  46.  47.  48.  49.  50.  51.  52.  53.  54.  55.\n",
      "  56.  57.  58.  59.  60.  61.  62.  63.  64.  65.  66.  67.  68.  69.\n",
      "  70.  71.  72.  73.  74.  75.  76.  77.  78.  79.  80.  81.  82.  83.\n",
      "  84.  85.  86.  87.  88.  89.  90.  91.  92.  93.  94.  95.  96.  97.\n",
      "  98.  99. 100.]\n"
     ]
    }
   ],
   "source": [
    "print(bins)"
   ]
  },
  {
   "cell_type": "code",
   "execution_count": 72,
   "metadata": {
    "execution": {
     "iopub.execute_input": "2023-08-25T21:44:32.314896Z",
     "iopub.status.busy": "2023-08-25T21:44:32.314429Z",
     "iopub.status.idle": "2023-08-25T21:44:32.319883Z",
     "shell.execute_reply": "2023-08-25T21:44:32.318482Z",
     "shell.execute_reply.started": "2023-08-25T21:44:32.314865Z"
    }
   },
   "outputs": [],
   "source": [
    "bin_centers = 0.5*(bins[1:]+bins[:-1])"
   ]
  },
  {
   "cell_type": "code",
   "execution_count": 73,
   "metadata": {
    "execution": {
     "iopub.execute_input": "2023-08-25T21:44:34.092308Z",
     "iopub.status.busy": "2023-08-25T21:44:34.090611Z",
     "iopub.status.idle": "2023-08-25T21:44:34.106111Z",
     "shell.execute_reply": "2023-08-25T21:44:34.105164Z",
     "shell.execute_reply.started": "2023-08-25T21:44:34.092157Z"
    }
   },
   "outputs": [],
   "source": [
    "histogram, bins = np.histogram(samples, bins=bins, density=False)"
   ]
  },
  {
   "cell_type": "code",
   "execution_count": 74,
   "metadata": {
    "execution": {
     "iopub.execute_input": "2023-08-25T21:44:35.733842Z",
     "iopub.status.busy": "2023-08-25T21:44:35.732961Z",
     "iopub.status.idle": "2023-08-25T21:44:36.492554Z",
     "shell.execute_reply": "2023-08-25T21:44:36.491807Z",
     "shell.execute_reply.started": "2023-08-25T21:44:35.733811Z"
    }
   },
   "outputs": [
    {
     "data": {
      "image/png": "[encoded data removed]",
      "text/plain": [
       "<Figure size 720x288 with 1 Axes>"
      ]
     },
     "metadata": {
      "needs_background": "light"
     },
     "output_type": "display_data"
    }
   ],
   "source": [
    "plt.figure(figsize=(10,4))\n",
    "plt.bar(bin_centers, histogram,)\n",
    "plt.ylim(0,np.max(histogram*1.2))\n",
    "plt.xlabel('Number of Heads (or Tails)')\n",
    "plt.ylabel('Frequency (Number of Students with Outcome)')\n",
    "plt.title('Binomial Distribution')\n",
    "plt.show()"
   ]
  },
  {
   "cell_type": "markdown",
   "metadata": {},
   "source": [
    "<div class=\"alert alert-info\">What happens when you increase the number of experiements (either number of students or number of tosses)? Answer below. </div>"
   ]
  },
  {
   "cell_type": "code",
   "execution_count": null,
   "metadata": {},
   "outputs": [],
   "source": [
    "Answer: The distribution will become more similar to the Gaussian distribution according to my observation. That means more data points in the center and less data the further it is from the center. "
   ]
  },
  {
   "cell_type": "markdown",
   "metadata": {},
   "source": [
    "## Poisson Distribution"
   ]
  },
  {
   "cell_type": "markdown",
   "metadata": {},
   "source": [
    "The Poisson distribution gives you the probability of encountering a certain number of events in a given period, if those events are occuring at a known constant mean rate.  This is the distribution that governs most 'counting' situations, including the collection of photons from stars!  This is also the limit of the binomial distribution for large N and small p."
   ]
  },
  {
   "cell_type": "markdown",
   "metadata": {},
   "source": [
    "The distribution has one parameter: the average number of events, often expressed as $\\mu$:\n",
    "\n",
    "$$ P(x) = \\frac{\\mu^x}{x!} e^{-\\mu}$$"
   ]
  },
  {
   "cell_type": "markdown",
   "metadata": {},
   "source": [
    "Use the Poisson generator in numpy to generate a sample function with a mean rate of 10 and 100 events."
   ]
  },
  {
   "cell_type": "code",
   "execution_count": 81,
   "metadata": {
    "execution": {
     "iopub.execute_input": "2023-08-25T21:48:45.406127Z",
     "iopub.status.busy": "2023-08-25T21:48:45.405448Z",
     "iopub.status.idle": "2023-08-25T21:48:45.413580Z",
     "shell.execute_reply": "2023-08-25T21:48:45.411887Z",
     "shell.execute_reply.started": "2023-08-25T21:48:45.406065Z"
    }
   },
   "outputs": [],
   "source": [
    "mu = 100\n",
    "samples = np.random.poisson(mu, 1)"
   ]
  },
  {
   "cell_type": "code",
   "execution_count": 76,
   "metadata": {
    "execution": {
     "iopub.execute_input": "2023-08-25T21:47:53.779244Z",
     "iopub.status.busy": "2023-08-25T21:47:53.778677Z",
     "iopub.status.idle": "2023-08-25T21:47:53.786007Z",
     "shell.execute_reply": "2023-08-25T21:47:53.784745Z",
     "shell.execute_reply.started": "2023-08-25T21:47:53.779194Z"
    }
   },
   "outputs": [
    {
     "name": "stdout",
     "output_type": "stream",
     "text": [
      "[16  8  8  8  9  6 15 12 14 16 14  7 15  7 10  9  7  9 14 14 11  8 10 17\n",
      "  5 12  5 14 10  7  9  8  9  8 12  8 12  8  9  9 10  9 14  9  7 14 10  8\n",
      " 11  9  8  7  9  8  7  8  7  8 13 13 11 15 12 11 13 18 10 10 15 11 19 13\n",
      "  9 12  8 13 15  8 10  8  7 11  7  9  9  5 12  9 19  6 10 13 15  7 10  9\n",
      "  9  8  4 12]\n"
     ]
    }
   ],
   "source": [
    "print(samples)"
   ]
  },
  {
   "cell_type": "code",
   "execution_count": 82,
   "metadata": {
    "execution": {
     "iopub.execute_input": "2023-08-25T21:48:48.108429Z",
     "iopub.status.busy": "2023-08-25T21:48:48.107800Z",
     "iopub.status.idle": "2023-08-25T21:48:48.114846Z",
     "shell.execute_reply": "2023-08-25T21:48:48.113656Z",
     "shell.execute_reply.started": "2023-08-25T21:48:48.108375Z"
    }
   },
   "outputs": [],
   "source": [
    "bins = np.linspace(min(samples)-1,1.1*max(samples),21)  # written to adjust to changes in lambda"
   ]
  },
  {
   "cell_type": "code",
   "execution_count": 83,
   "metadata": {
    "execution": {
     "iopub.execute_input": "2023-08-25T21:48:51.379305Z",
     "iopub.status.busy": "2023-08-25T21:48:51.378715Z",
     "iopub.status.idle": "2023-08-25T21:48:51.385984Z",
     "shell.execute_reply": "2023-08-25T21:48:51.384487Z",
     "shell.execute_reply.started": "2023-08-25T21:48:51.379252Z"
    }
   },
   "outputs": [],
   "source": [
    "histogram, bins = np.histogram(samples, bins=bins)"
   ]
  },
  {
   "cell_type": "code",
   "execution_count": 84,
   "metadata": {
    "execution": {
     "iopub.execute_input": "2023-08-25T21:48:52.891458Z",
     "iopub.status.busy": "2023-08-25T21:48:52.890831Z",
     "iopub.status.idle": "2023-08-25T21:48:52.898143Z",
     "shell.execute_reply": "2023-08-25T21:48:52.896626Z",
     "shell.execute_reply.started": "2023-08-25T21:48:52.891402Z"
    }
   },
   "outputs": [],
   "source": [
    "bin_centers = 0.5*(bins[1:]+bins[:-1])"
   ]
  },
  {
   "cell_type": "code",
   "execution_count": 85,
   "metadata": {
    "execution": {
     "iopub.execute_input": "2023-08-25T21:48:54.399754Z",
     "iopub.status.busy": "2023-08-25T21:48:54.399112Z",
     "iopub.status.idle": "2023-08-25T21:48:54.786745Z",
     "shell.execute_reply": "2023-08-25T21:48:54.785625Z",
     "shell.execute_reply.started": "2023-08-25T21:48:54.399697Z"
    }
   },
   "outputs": [
    {
     "data": {
      "image/png": "[encoded data removed]",
      "text/plain": [
       "<Figure size 720x288 with 1 Axes>"
      ]
     },
     "metadata": {
      "needs_background": "light"
     },
     "output_type": "display_data"
    }
   ],
   "source": [
    "plt.figure(figsize=(10,4))\n",
    "plt.bar(bin_centers, histogram)\n",
    "plt.ylim(0,np.max(histogram*1.2))\n",
    "plt.xlabel('Number of Occurances')\n",
    "plt.ylabel('Frequency (N)')\n",
    "plt.title('Poisson Distribution')\n",
    "plt.show()"
   ]
  },
  {
   "cell_type": "markdown",
   "metadata": {},
   "source": [
    "Increase the number of samples to smooth out the function."
   ]
  },
  {
   "cell_type": "markdown",
   "metadata": {},
   "source": [
    "<div class=\"alert alert-info\">What happens to the Poisson distribution for very low rates (try a value of 1)? What happens at very large mu (try a value of 100) Answer both below. </div>"
   ]
  },
  {
   "cell_type": "code",
   "execution_count": null,
   "metadata": {},
   "outputs": [],
   "source": [
    "Answer: All the data stays in one place instead of distributing all over the graph like the Gaussian distribution. "
   ]
  },
  {
   "cell_type": "markdown",
   "metadata": {},
   "source": [
    "***"
   ]
  },
  {
   "cell_type": "markdown",
   "metadata": {},
   "source": [
    "## Conclusion: "
   ]
  },
  {
   "cell_type": "markdown",
   "metadata": {},
   "source": [
    " <div class=\"alert alert-info\">Save your notebook.  Append your LastNameFirstInitial to the filename and submit via D2L.</div>"
   ]
  },
  {
   "cell_type": "code",
   "execution_count": null,
   "metadata": {},
   "outputs": [],
   "source": []
  }
 ],
 "metadata": {
  "kernelspec": {
   "display_name": "Python 3",
   "language": "python",
   "name": "python3"
  },
  "language_info": {
   "codemirror_mode": {
    "name": "ipython",
    "version": 3
   },
   "file_extension": ".py",
   "mimetype": "text/x-python",
   "name": "python",
   "nbconvert_exporter": "python",
   "pygments_lexer": "ipython3",
   "version": "3.8.8"
  }
 },
 "nbformat": 4,
 "nbformat_minor": 4
}
